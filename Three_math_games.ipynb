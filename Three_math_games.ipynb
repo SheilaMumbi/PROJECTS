{
  "nbformat": 4,
  "nbformat_minor": 0,
  "metadata": {
    "colab": {
      "provenance": [],
      "toc_visible": true,
      "authorship_tag": "ABX9TyMfLW2Cq8Qr9r9QbbS85AYR",
      "include_colab_link": true
    },
    "kernelspec": {
      "name": "python3",
      "display_name": "Python 3"
    },
    "language_info": {
      "name": "python"
    },
    "widgets": {
      "application/vnd.jupyter.widget-state+json": {
        "fa559f9a8c34468aabcfc17d96457f3c": {
          "model_module": "@jupyter-widgets/controls",
          "model_name": "VBoxModel",
          "model_module_version": "1.5.0",
          "state": {
            "_dom_classes": [
              "widget-interact"
            ],
            "_model_module": "@jupyter-widgets/controls",
            "_model_module_version": "1.5.0",
            "_model_name": "VBoxModel",
            "_view_count": null,
            "_view_module": "@jupyter-widgets/controls",
            "_view_module_version": "1.5.0",
            "_view_name": "VBoxView",
            "box_style": "",
            "children": [
              "IPY_MODEL_4ac5b7f7c81b4f9cbae8eca3267e5577",
              "IPY_MODEL_248531f8f50847a592ec49602cd0f2dd",
              "IPY_MODEL_da2e5fba75e04930adb128c76256e670",
              "IPY_MODEL_2d7b0024cc0344bc80a1a20adb2ba82e"
            ],
            "layout": "IPY_MODEL_baa4106607da47ff8959ce77019663b0"
          }
        },
        "4ac5b7f7c81b4f9cbae8eca3267e5577": {
          "model_module": "@jupyter-widgets/controls",
          "model_name": "FloatSliderModel",
          "model_module_version": "1.5.0",
          "state": {
            "_dom_classes": [],
            "_model_module": "@jupyter-widgets/controls",
            "_model_module_version": "1.5.0",
            "_model_name": "FloatSliderModel",
            "_view_count": null,
            "_view_module": "@jupyter-widgets/controls",
            "_view_module_version": "1.5.0",
            "_view_name": "FloatSliderView",
            "continuous_update": true,
            "description": "a",
            "description_tooltip": null,
            "disabled": false,
            "layout": "IPY_MODEL_f206fcf424974b409e1ecda98bf77966",
            "max": 1,
            "min": -1,
            "orientation": "horizontal",
            "readout": true,
            "readout_format": ".2f",
            "step": 0.1,
            "style": "IPY_MODEL_e5ef86a03d6747beb812c11bbaa7d167",
            "value": -0.4
          }
        },
        "248531f8f50847a592ec49602cd0f2dd": {
          "model_module": "@jupyter-widgets/controls",
          "model_name": "FloatSliderModel",
          "model_module_version": "1.5.0",
          "state": {
            "_dom_classes": [],
            "_model_module": "@jupyter-widgets/controls",
            "_model_module_version": "1.5.0",
            "_model_name": "FloatSliderModel",
            "_view_count": null,
            "_view_module": "@jupyter-widgets/controls",
            "_view_module_version": "1.5.0",
            "_view_name": "FloatSliderView",
            "continuous_update": true,
            "description": "b",
            "description_tooltip": null,
            "disabled": false,
            "layout": "IPY_MODEL_c347bca2fd2840b48588b99922a21134",
            "max": 10,
            "min": -10,
            "orientation": "horizontal",
            "readout": true,
            "readout_format": ".2f",
            "step": 1,
            "style": "IPY_MODEL_9250b14704274de59e0999698cfb83e8",
            "value": 2
          }
        },
        "da2e5fba75e04930adb128c76256e670": {
          "model_module": "@jupyter-widgets/controls",
          "model_name": "FloatSliderModel",
          "model_module_version": "1.5.0",
          "state": {
            "_dom_classes": [],
            "_model_module": "@jupyter-widgets/controls",
            "_model_module_version": "1.5.0",
            "_model_name": "FloatSliderModel",
            "_view_count": null,
            "_view_module": "@jupyter-widgets/controls",
            "_view_module_version": "1.5.0",
            "_view_name": "FloatSliderView",
            "continuous_update": true,
            "description": "c",
            "description_tooltip": null,
            "disabled": false,
            "layout": "IPY_MODEL_3fe12dcc9cbc4ef4bb6fde75ff1e3b2f",
            "max": 10,
            "min": -10,
            "orientation": "horizontal",
            "readout": true,
            "readout_format": ".2f",
            "step": 1,
            "style": "IPY_MODEL_c289f0977ef143a698acdba07df1536c",
            "value": 7
          }
        },
        "2d7b0024cc0344bc80a1a20adb2ba82e": {
          "model_module": "@jupyter-widgets/output",
          "model_name": "OutputModel",
          "model_module_version": "1.0.0",
          "state": {
            "_dom_classes": [],
            "_model_module": "@jupyter-widgets/output",
            "_model_module_version": "1.0.0",
            "_model_name": "OutputModel",
            "_view_count": null,
            "_view_module": "@jupyter-widgets/output",
            "_view_module_version": "1.0.0",
            "_view_name": "OutputView",
            "layout": "IPY_MODEL_f757dde4c37841638f23ac73bea3504d",
            "msg_id": "",
            "outputs": [
              {
                "output_type": "display_data",
                "data": {
                  "text/plain": "<Figure size 640x480 with 1 Axes>",
                  "image/png": "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\n"
                },
                "metadata": {}
              }
            ]
          }
        },
        "baa4106607da47ff8959ce77019663b0": {
          "model_module": "@jupyter-widgets/base",
          "model_name": "LayoutModel",
          "model_module_version": "1.2.0",
          "state": {
            "_model_module": "@jupyter-widgets/base",
            "_model_module_version": "1.2.0",
            "_model_name": "LayoutModel",
            "_view_count": null,
            "_view_module": "@jupyter-widgets/base",
            "_view_module_version": "1.2.0",
            "_view_name": "LayoutView",
            "align_content": null,
            "align_items": null,
            "align_self": null,
            "border": null,
            "bottom": null,
            "display": null,
            "flex": null,
            "flex_flow": null,
            "grid_area": null,
            "grid_auto_columns": null,
            "grid_auto_flow": null,
            "grid_auto_rows": null,
            "grid_column": null,
            "grid_gap": null,
            "grid_row": null,
            "grid_template_areas": null,
            "grid_template_columns": null,
            "grid_template_rows": null,
            "height": null,
            "justify_content": null,
            "justify_items": null,
            "left": null,
            "margin": null,
            "max_height": null,
            "max_width": null,
            "min_height": null,
            "min_width": null,
            "object_fit": null,
            "object_position": null,
            "order": null,
            "overflow": null,
            "overflow_x": null,
            "overflow_y": null,
            "padding": null,
            "right": null,
            "top": null,
            "visibility": null,
            "width": null
          }
        },
        "f206fcf424974b409e1ecda98bf77966": {
          "model_module": "@jupyter-widgets/base",
          "model_name": "LayoutModel",
          "model_module_version": "1.2.0",
          "state": {
            "_model_module": "@jupyter-widgets/base",
            "_model_module_version": "1.2.0",
            "_model_name": "LayoutModel",
            "_view_count": null,
            "_view_module": "@jupyter-widgets/base",
            "_view_module_version": "1.2.0",
            "_view_name": "LayoutView",
            "align_content": null,
            "align_items": null,
            "align_self": null,
            "border": null,
            "bottom": null,
            "display": null,
            "flex": null,
            "flex_flow": null,
            "grid_area": null,
            "grid_auto_columns": null,
            "grid_auto_flow": null,
            "grid_auto_rows": null,
            "grid_column": null,
            "grid_gap": null,
            "grid_row": null,
            "grid_template_areas": null,
            "grid_template_columns": null,
            "grid_template_rows": null,
            "height": null,
            "justify_content": null,
            "justify_items": null,
            "left": null,
            "margin": null,
            "max_height": null,
            "max_width": null,
            "min_height": null,
            "min_width": null,
            "object_fit": null,
            "object_position": null,
            "order": null,
            "overflow": null,
            "overflow_x": null,
            "overflow_y": null,
            "padding": null,
            "right": null,
            "top": null,
            "visibility": null,
            "width": null
          }
        },
        "e5ef86a03d6747beb812c11bbaa7d167": {
          "model_module": "@jupyter-widgets/controls",
          "model_name": "SliderStyleModel",
          "model_module_version": "1.5.0",
          "state": {
            "_model_module": "@jupyter-widgets/controls",
            "_model_module_version": "1.5.0",
            "_model_name": "SliderStyleModel",
            "_view_count": null,
            "_view_module": "@jupyter-widgets/base",
            "_view_module_version": "1.2.0",
            "_view_name": "StyleView",
            "description_width": "",
            "handle_color": null
          }
        },
        "c347bca2fd2840b48588b99922a21134": {
          "model_module": "@jupyter-widgets/base",
          "model_name": "LayoutModel",
          "model_module_version": "1.2.0",
          "state": {
            "_model_module": "@jupyter-widgets/base",
            "_model_module_version": "1.2.0",
            "_model_name": "LayoutModel",
            "_view_count": null,
            "_view_module": "@jupyter-widgets/base",
            "_view_module_version": "1.2.0",
            "_view_name": "LayoutView",
            "align_content": null,
            "align_items": null,
            "align_self": null,
            "border": null,
            "bottom": null,
            "display": null,
            "flex": null,
            "flex_flow": null,
            "grid_area": null,
            "grid_auto_columns": null,
            "grid_auto_flow": null,
            "grid_auto_rows": null,
            "grid_column": null,
            "grid_gap": null,
            "grid_row": null,
            "grid_template_areas": null,
            "grid_template_columns": null,
            "grid_template_rows": null,
            "height": null,
            "justify_content": null,
            "justify_items": null,
            "left": null,
            "margin": null,
            "max_height": null,
            "max_width": null,
            "min_height": null,
            "min_width": null,
            "object_fit": null,
            "object_position": null,
            "order": null,
            "overflow": null,
            "overflow_x": null,
            "overflow_y": null,
            "padding": null,
            "right": null,
            "top": null,
            "visibility": null,
            "width": null
          }
        },
        "9250b14704274de59e0999698cfb83e8": {
          "model_module": "@jupyter-widgets/controls",
          "model_name": "SliderStyleModel",
          "model_module_version": "1.5.0",
          "state": {
            "_model_module": "@jupyter-widgets/controls",
            "_model_module_version": "1.5.0",
            "_model_name": "SliderStyleModel",
            "_view_count": null,
            "_view_module": "@jupyter-widgets/base",
            "_view_module_version": "1.2.0",
            "_view_name": "StyleView",
            "description_width": "",
            "handle_color": null
          }
        },
        "3fe12dcc9cbc4ef4bb6fde75ff1e3b2f": {
          "model_module": "@jupyter-widgets/base",
          "model_name": "LayoutModel",
          "model_module_version": "1.2.0",
          "state": {
            "_model_module": "@jupyter-widgets/base",
            "_model_module_version": "1.2.0",
            "_model_name": "LayoutModel",
            "_view_count": null,
            "_view_module": "@jupyter-widgets/base",
            "_view_module_version": "1.2.0",
            "_view_name": "LayoutView",
            "align_content": null,
            "align_items": null,
            "align_self": null,
            "border": null,
            "bottom": null,
            "display": null,
            "flex": null,
            "flex_flow": null,
            "grid_area": null,
            "grid_auto_columns": null,
            "grid_auto_flow": null,
            "grid_auto_rows": null,
            "grid_column": null,
            "grid_gap": null,
            "grid_row": null,
            "grid_template_areas": null,
            "grid_template_columns": null,
            "grid_template_rows": null,
            "height": null,
            "justify_content": null,
            "justify_items": null,
            "left": null,
            "margin": null,
            "max_height": null,
            "max_width": null,
            "min_height": null,
            "min_width": null,
            "object_fit": null,
            "object_position": null,
            "order": null,
            "overflow": null,
            "overflow_x": null,
            "overflow_y": null,
            "padding": null,
            "right": null,
            "top": null,
            "visibility": null,
            "width": null
          }
        },
        "c289f0977ef143a698acdba07df1536c": {
          "model_module": "@jupyter-widgets/controls",
          "model_name": "SliderStyleModel",
          "model_module_version": "1.5.0",
          "state": {
            "_model_module": "@jupyter-widgets/controls",
            "_model_module_version": "1.5.0",
            "_model_name": "SliderStyleModel",
            "_view_count": null,
            "_view_module": "@jupyter-widgets/base",
            "_view_module_version": "1.2.0",
            "_view_name": "StyleView",
            "description_width": "",
            "handle_color": null
          }
        },
        "f757dde4c37841638f23ac73bea3504d": {
          "model_module": "@jupyter-widgets/base",
          "model_name": "LayoutModel",
          "model_module_version": "1.2.0",
          "state": {
            "_model_module": "@jupyter-widgets/base",
            "_model_module_version": "1.2.0",
            "_model_name": "LayoutModel",
            "_view_count": null,
            "_view_module": "@jupyter-widgets/base",
            "_view_module_version": "1.2.0",
            "_view_name": "LayoutView",
            "align_content": null,
            "align_items": null,
            "align_self": null,
            "border": null,
            "bottom": null,
            "display": null,
            "flex": null,
            "flex_flow": null,
            "grid_area": null,
            "grid_auto_columns": null,
            "grid_auto_flow": null,
            "grid_auto_rows": null,
            "grid_column": null,
            "grid_gap": null,
            "grid_row": null,
            "grid_template_areas": null,
            "grid_template_columns": null,
            "grid_template_rows": null,
            "height": null,
            "justify_content": null,
            "justify_items": null,
            "left": null,
            "margin": null,
            "max_height": null,
            "max_width": null,
            "min_height": null,
            "min_width": null,
            "object_fit": null,
            "object_position": null,
            "order": null,
            "overflow": null,
            "overflow_x": null,
            "overflow_y": null,
            "padding": null,
            "right": null,
            "top": null,
            "visibility": null,
            "width": null
          }
        }
      }
    }
  },
  "cells": [
    {
      "cell_type": "markdown",
      "metadata": {
        "id": "view-in-github",
        "colab_type": "text"
      },
      "source": [
        "<a href=\"https://colab.research.google.com/github/SheilaMumbi/PROJECTS-2024/blob/main/Three_math_games.ipynb\" target=\"_parent\"><img src=\"https://colab.research.google.com/assets/colab-badge.svg\" alt=\"Open In Colab\"/></a>"
      ]
    },
    {
      "cell_type": "markdown",
      "source": [
        "# Scatter plot game"
      ],
      "metadata": {
        "id": "0tIppxRpkZus"
      }
    },
    {
      "cell_type": "code",
      "source": [
        "import numpy as np\n",
        "import matplotlib.pyplot as plt\n",
        "\n",
        "def generate_points(num_points, x_range, y_range):\n",
        "    x = np.random.uniform(x_range[0], x_range[1], num_points)\n",
        "    y = np.random.uniform(y_range[0], y_range[1], num_points)\n",
        "    return list(zip(x, y))\n",
        "\n",
        "def plot_points(points):\n",
        "    x, y = zip(*points)\n",
        "    plt.scatter(x, y, color='blue')\n",
        "    plt.xlabel('X-axis')\n",
        "    plt.ylabel('Y-axis')\n",
        "    plt.title('Scatter Plot Game')\n",
        "    plt.grid(True)\n",
        "    plt.show()\n",
        "\n",
        "def play_game():\n",
        "    num_points = 5  # Fewer points for simplicity\n",
        "    x_range = (0, 10)\n",
        "    y_range = (0, 10)\n",
        "\n",
        "    points = generate_points(num_points, x_range, y_range)\n",
        "    plot_points(points)\n",
        "\n",
        "    print(\"Guess the coordinates of the points (x, y).\")\n",
        "    score = 0\n",
        "\n",
        "    for i, point in enumerate(points):\n",
        "        guess_x = float(input(f\"Guess x for point {i+1}: \"))\n",
        "        guess_y = float(input(f\"Guess y for point {i+1}: \"))\n",
        "\n",
        "        if abs(guess_x - point[0]) < 1 and abs(guess_y - point[1]) < 1:  # Allow some margin for error\n",
        "            print(\"Correct!\")\n",
        "            score += 1\n",
        "        else:\n",
        "            print(f\"Wrong! The correct point was ({point[0]:.2f}, {point[1]:.2f}).\")\n",
        "\n",
        "    print(f\"Game Over! Your score: {score}/{num_points}\")\n",
        "\n",
        "if __name__ == \"__main__\":\n",
        "    play_game()\n"
      ],
      "metadata": {
        "colab": {
          "base_uri": "https://localhost:8080/",
          "height": 767
        },
        "id": "kcIB8VegnQ3u",
        "outputId": "001b29c1-9f54-44b7-e066-2abcfbfe5a85"
      },
      "execution_count": null,
      "outputs": [
        {
          "output_type": "display_data",
          "data": {
            "text/plain": [
              "<Figure size 640x480 with 1 Axes>"
            ],
            "image/png": "[encoded data removed]"
          },
          "metadata": {}
        },
        {
          "output_type": "stream",
          "name": "stdout",
          "text": [
            "Guess the coordinates of the points (x, y).\n",
            "Guess x for point 1: 3\n",
            "Guess y for point 1: 6\n",
            "Wrong! The correct point was (8.44, 4.96).\n",
            "Guess x for point 2: 5.2\n",
            "Guess y for point 2: 1.4\n",
            "Wrong! The correct point was (7.85, 1.75).\n",
            "Guess x for point 3: 6.8\n",
            "Guess y for point 3: 0.3\n",
            "Wrong! The correct point was (3.87, 6.79).\n",
            "Guess x for point 4: 7.9\n",
            "Guess y for point 4: 5.6\n",
            "Wrong! The correct point was (5.22, 1.43).\n",
            "Guess x for point 5: 2.5\n",
            "Guess y for point 5: 9.7\n",
            "Wrong! The correct point was (6.79, 0.40).\n",
            "Game Over! Your score: 0/5\n"
          ]
        }
      ]
    },
    {
      "cell_type": "markdown",
      "source": [
        "# Algebra Practice Game"
      ],
      "metadata": {
        "id": "2nug2rXPoog1"
      }
    },
    {
      "cell_type": "code",
      "source": [
        "import random\n",
        "\n",
        "def generate_one_step_problem():\n",
        "    # Example: x + a = b\n",
        "    x = random.randint(-10, 10)\n",
        "    a = random.randint(-10, 10)\n",
        "    b = x + a\n",
        "    return f\"x + {a} = {b}\", x\n",
        "\n",
        "def generate_two_step_problem():\n",
        "    # Example: ax + b = c\n",
        "    a = random.randint(-10, 10)\n",
        "    x = random.randint(-10, 10)\n",
        "    b = random.randint(-10, 10)\n",
        "    c = a * x + b\n",
        "    return f\"{a}x + {b} = {c}\", x\n",
        "\n",
        "def play_game():\n",
        "    num_problems = 5  # Number of problems to generate\n",
        "    score = 0\n",
        "\n",
        "    for _ in range(num_problems):\n",
        "        problem_type = random.choice([\"one_step\", \"two_step\"])\n",
        "\n",
        "        if problem_type == \"one_step\":\n",
        "            problem, solution = generate_one_step_problem()\n",
        "        else:\n",
        "            problem, solution = generate_two_step_problem()\n",
        "\n",
        "        print(f\"Solve for x: {problem}\")\n",
        "        user_answer = float(input(\"Your answer: \"))\n",
        "\n",
        "        if user_answer == solution:\n",
        "            print(\"Correct!\")\n",
        "            score += 1\n",
        "        else:\n",
        "            print(f\"Wrong! The correct answer was {solution}.\")\n",
        "\n",
        "    print(f\"Game Over! Your score: {score}/{num_problems}\")\n",
        "\n",
        "if __name__ == \"__main__\":\n",
        "    play_game()\n"
      ],
      "metadata": {
        "colab": {
          "base_uri": "https://localhost:8080/"
        },
        "id": "Jy3Zncpgo7D7",
        "outputId": "fd6ccc41-ec5b-4cc0-8307-2a6567454262"
      },
      "execution_count": null,
      "outputs": [
        {
          "output_type": "stream",
          "name": "stdout",
          "text": [
            "Solve for x: x + -1 = -5\n",
            "Your answer: -4\n",
            "Correct!\n",
            "Solve for x: x + -3 = -2\n",
            "Your answer: 1\n",
            "Correct!\n",
            "Solve for x: -7x + -6 = -69\n",
            "Your answer: 9\n",
            "Correct!\n",
            "Solve for x: 6x + -4 = -16\n",
            "Your answer: -2\n",
            "Correct!\n",
            "Solve for x: x + -10 = -1\n",
            "Your answer: 9\n",
            "Correct!\n",
            "Game Over! Your score: 5/5\n"
          ]
        }
      ]
    },
    {
      "cell_type": "markdown",
      "source": [
        "# Projectile game"
      ],
      "metadata": {
        "id": "thgSILG4pTiV"
      }
    },
    {
      "cell_type": "code",
      "source": [
        "import numpy as np\n",
        "import matplotlib.pyplot as plt\n",
        "from ipywidgets import interact, FloatSlider\n",
        "\n",
        "# Function to generate a random wall\n",
        "def generate_wall():\n",
        "    wall_x = np.random.uniform(5, 15)\n",
        "    wall_height = np.random.uniform(5, 15)\n",
        "    return wall_x, wall_height\n",
        "\n",
        "# Function to plot the parabolic path and the wall\n",
        "def plot_path(a, b, c, wall_x, wall_height):\n",
        "    x = np.linspace(0, 20, 400)\n",
        "    y = a * x**2 + b * x + c\n",
        "\n",
        "    plt.plot(x, y, label='Projectile Path')\n",
        "    plt.axvline(x=wall_x, ymin=0, ymax=wall_height/20, color='r', label='Wall')\n",
        "    plt.fill_betweenx([0, wall_height], wall_x, wall_x + 0.5, color='r', alpha=0.5)\n",
        "    plt.ylim(0, 20)\n",
        "    plt.xlim(0, 20)\n",
        "    plt.xlabel('Distance')\n",
        "    plt.ylabel('Height')\n",
        "    plt.title('Projectile Game')\n",
        "    plt.legend()\n",
        "    plt.grid(True)\n",
        "    plt.show()\n",
        "\n",
        "# Level 1: Sliders\n",
        "def level1():\n",
        "    wall_x, wall_height = generate_wall()\n",
        "\n",
        "    interact(lambda a, b, c: plot_path(a, b, c, wall_x, wall_height),\n",
        "             a=FloatSlider(min=-1, max=1, step=0.1, value=0.1),\n",
        "             b=FloatSlider(min=-10, max=10, step=1, value=5),\n",
        "             c=FloatSlider(min=-10, max=10, step=1, value=0))\n",
        "\n",
        "# Level 2: User Input\n",
        "def level2():\n",
        "    wall_x, wall_height = generate_wall()\n",
        "\n",
        "    a = float(input(\"Enter coefficient a: \"))\n",
        "    b = float(input(\"Enter coefficient b: \"))\n",
        "    c = float(input(\"Enter coefficient c: \"))\n",
        "\n",
        "    plot_path(a, b, c, wall_x, wall_height)\n",
        "\n",
        "if __name__ == \"__main__\":\n",
        "    print(\"Level 1: Use sliders to adjust the parabolic path.\")\n",
        "    level1()\n",
        "    print(\"Level 2: Enter the coefficients a, b, and c.\")\n",
        "    level2()\n"
      ],
      "metadata": {
        "colab": {
          "base_uri": "https://localhost:8080/",
          "height": 1000,
          "referenced_widgets": [
            "fa559f9a8c34468aabcfc17d96457f3c",
            "4ac5b7f7c81b4f9cbae8eca3267e5577",
            "248531f8f50847a592ec49602cd0f2dd",
            "da2e5fba75e04930adb128c76256e670",
            "2d7b0024cc0344bc80a1a20adb2ba82e",
            "baa4106607da47ff8959ce77019663b0",
            "f206fcf424974b409e1ecda98bf77966",
            "e5ef86a03d6747beb812c11bbaa7d167",
            "c347bca2fd2840b48588b99922a21134",
            "9250b14704274de59e0999698cfb83e8",
            "3fe12dcc9cbc4ef4bb6fde75ff1e3b2f",
            "c289f0977ef143a698acdba07df1536c",
            "f757dde4c37841638f23ac73bea3504d"
          ]
        },
        "id": "gx4RB4xYpZCO",
        "outputId": "b1a7a233-6806-453c-edc8-003d62925990"
      },
      "execution_count": null,
      "outputs": [
        {
          "output_type": "stream",
          "name": "stdout",
          "text": [
            "Level 1: Use sliders to adjust the parabolic path.\n"
          ]
        },
        {
          "output_type": "display_data",
          "data": {
            "text/plain": [
              "interactive(children=(FloatSlider(value=0.1, description='a', max=1.0, min=-1.0), FloatSlider(value=5.0, descr…"
            ],
            "application/vnd.jupyter.widget-view+json": {
              "version_major": 2,
              "version_minor": 0,
              "model_id": "fa559f9a8c34468aabcfc17d96457f3c"
            }
          },
          "metadata": {}
        },
        {
          "name": "stdout",
          "output_type": "stream",
          "text": [
            "Level 2: Enter the coefficients a, b, and c.\n",
            "Enter coefficient a: 8\n",
            "Enter coefficient b: 2\n",
            "Enter coefficient c: 1\n"
          ]
        },
        {
          "output_type": "display_data",
          "data": {
            "text/plain": [
              "<Figure size 640x480 with 1 Axes>"
            ],
            "image/png": "[encoded data removed]"
          },
          "metadata": {}
        }
      ]
    }
  ]
}