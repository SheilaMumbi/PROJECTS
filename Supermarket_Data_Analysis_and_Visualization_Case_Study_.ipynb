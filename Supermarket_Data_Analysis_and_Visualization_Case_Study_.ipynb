{
  "nbformat": 4,
  "nbformat_minor": 0,
  "metadata": {
    "colab": {
      "provenance": [],
      "authorship_tag": "ABX9TyN1VHiflLJ3e3mzUlF4r+ex",
      "include_colab_link": true
    },
    "kernelspec": {
      "name": "python3",
      "display_name": "Python 3"
    },
    "language_info": {
      "name": "python"
    }
  },
  "cells": [
    {
      "cell_type": "markdown",
      "metadata": {
        "id": "view-in-github",
        "colab_type": "text"
      },
      "source": [
        "<a href=\"https://colab.research.google.com/github/SheilaMumbi/PROJECTS/blob/main/Supermarket_Data_Analysis_and_Visualization_Case_Study_.ipynb\" target=\"_parent\"><img src=\"https://colab.research.google.com/assets/colab-badge.svg\" alt=\"Open In Colab\"/></a>"
      ]
    },
    {
      "cell_type": "markdown",
      "source": [
        "# **INTRODUCTION**\n"
      ],
      "metadata": {
        "id": "dTB5FuUHtC1s"
      }
    },
    {
      "cell_type": "markdown",
      "source": [
        "Supermarkets play a vital role in the retail sector by providing consumers with a wide range of products, from groceries to household items. In a highly competitive market, understanding the factors that influence store performance is crucial for driving sales, increasing customer satisfaction, and maintaining profitability. This case study focuses on analyzing data from various supermarket stores to uncover trends, patterns, and insights that can inform strategic decisions."
      ],
      "metadata": {
        "id": "c3H0G-KhuB2N"
      }
    },
    {
      "cell_type": "markdown",
      "source": [
        "ABOUT DATA SET\n"
      ],
      "metadata": {
        "id": "nanffxPcuEXy"
      }
    },
    {
      "cell_type": "markdown",
      "source": [
        "The Data set contains:\n",
        "\n",
        "Store ID: (Index) ID of the particular store.\n",
        "\n",
        "Store_Area: Physical Area of the store in yard square.\n",
        "\n",
        "Items_Available: Number of different items available in the corresponding store.\n",
        "\n",
        "Daily_Customer_Count: Number of customers who visited to stores on an average over month.\n",
        "\n",
        "Store_Sales: Sales in (US $) that stores made."
      ],
      "metadata": {
        "id": "5kik6AuhuQY4"
      }
    },
    {
      "cell_type": "markdown",
      "source": [
        "# **Data Exploration and Preprocessing**"
      ],
      "metadata": {
        "id": "TZcqwxc5vkvV"
      }
    },
    {
      "cell_type": "markdown",
      "source": [
        "Loading the data set\n"
      ],
      "metadata": {
        "id": "ISLFPYkTvx4H"
      }
    },
    {
      "cell_type": "code",
      "source": [
        "pip install ydata-profiling\n"
      ],
      "metadata": {
        "id": "60TVtpa7v2d2"
      },
      "execution_count": null,
      "outputs": []
    },
    {
      "cell_type": "code",
      "source": [
        "# importing libraries\n",
        "import pandas as pd\n",
        "import numpy as np\n",
        "import matplotlib.pyplot as plt\n",
        "import seaborn as sns\n",
        "from ydata_profiling import ProfileReport\n",
        "\n",
        "# importing data\n",
        "data = '/content/Stores.csv'\n",
        "df = pd.read_csv(data)\n",
        "\n",
        "# First five rows\n",
        "df.head()"
      ],
      "metadata": {
        "id": "kM00IKZvwwQ-"
      },
      "execution_count": null,
      "outputs": []
    },
    {
      "cell_type": "code",
      "source": [
        "# Structure of the data set\n",
        "df.info()\n",
        "\n",
        "# Summary of the data set\n",
        "df.describe()"
      ],
      "metadata": {
        "id": "FD_pNztSzirU"
      },
      "execution_count": null,
      "outputs": []
    },
    {
      "cell_type": "code",
      "source": [
        "df_report = ProfileReport(df)\n",
        "df_report"
      ],
      "metadata": {
        "id": "shX524OOoeqc"
      },
      "execution_count": null,
      "outputs": []
    },
    {
      "cell_type": "markdown",
      "source": [
        "***Data Cleaning***"
      ],
      "metadata": {
        "id": "B_a5Yj8A0b_e"
      }
    },
    {
      "cell_type": "code",
      "source": [
        "# Checking for missing values\n",
        "df.isnull().sum()"
      ],
      "metadata": {
        "id": "XTrml_4J0jN9"
      },
      "execution_count": null,
      "outputs": []
    },
    {
      "cell_type": "code",
      "source": [
        "# Handling outliers\n",
        "# Plot box plots to identify outliers\n",
        "plt.figure(figsize=(15, 8))\n",
        "sns.boxplot(data=df)\n",
        "plt.title('Box Plot for All Numeric Columns')\n",
        "plt.show()"
      ],
      "metadata": {
        "id": "fSCTXfcW3ePy"
      },
      "execution_count": null,
      "outputs": []
    },
    {
      "cell_type": "markdown",
      "source": [
        "Store_Sales: Outliers are present on the upper end, indicating that some stores have significantly higher sales compared to the rest."
      ],
      "metadata": {
        "id": "GaXYLR-p5SHI"
      }
    },
    {
      "cell_type": "code",
      "source": [
        "# To check the number of duplicate values\n",
        "\n",
        "df.duplicated('Store_Sales').sum()"
      ],
      "metadata": {
        "id": "73yahv4tnC54"
      },
      "execution_count": null,
      "outputs": []
    },
    {
      "cell_type": "code",
      "source": [
        "# Remove duplicates\n",
        "df_cleaned = df.drop_duplicates('Store_Sales')\n",
        "\n",
        "#Reset the index\n",
        "df_cleaned = df_cleaned.reset_index(drop=True)\n",
        "\n",
        "df_cleaned\n"
      ],
      "metadata": {
        "id": "TEPSUDMPqsx0"
      },
      "execution_count": null,
      "outputs": []
    },
    {
      "cell_type": "code",
      "source": [
        "df_cleaned.describe()"
      ],
      "metadata": {
        "id": "ONJo3-h_q2kf"
      },
      "execution_count": null,
      "outputs": []
    },
    {
      "cell_type": "markdown",
      "source": [
        "***Initial Exploration***"
      ],
      "metadata": {
        "id": "2qIiOkdIrtUB"
      }
    },
    {
      "cell_type": "code",
      "source": [
        "# Plot histograms for each key variable\n",
        "fig, axes = plt.subplots(1, 3, figsize=(18, 6))\n",
        "\n",
        "sns.histplot(df_cleaned['Store_Area'], bins=20, ax=axes[0], kde=True)\n",
        "axes[0].set_title('Distribution of Store Area')\n",
        "\n",
        "sns.histplot(df_cleaned['Daily_Customer_Count'], bins=20, ax=axes[1], kde=True)\n",
        "axes[1].set_title('Distribution of Customer Count')\n",
        "\n",
        "sns.histplot(df_cleaned['Store_Sales'], bins=20, ax=axes[2], kde=True)\n",
        "axes[2].set_title('Distribution of Store Sales')\n",
        "\n",
        "plt.tight_layout()\n",
        "plt.show()\n"
      ],
      "metadata": {
        "id": "o96CUGRqtS-8"
      },
      "execution_count": null,
      "outputs": []
    },
    {
      "cell_type": "markdown",
      "source": [
        "# **Data Analysis**"
      ],
      "metadata": {
        "id": "G_NJBxf9VIH3"
      }
    },
    {
      "cell_type": "code",
      "source": [
        "# Correlation analysis between Store_Area and Items_Available\n",
        "correlation_store_size_items = df['Store_Area'].corr(df['Items_Available'])\n",
        "correlation_store_size_items\n",
        "\n",
        "# Scatter plot for Store Size vs. Items Available\n",
        "plt.figure(figsize=(10, 6))\n",
        "sns.scatterplot(x='Store_Area', y='Items_Available', data=df_cleaned)\n",
        "plt.title(f'Store Size vs. Items Available (Correlation: {correlation_store_size_items:.3f})')\n",
        "plt.xlabel('Store Area')\n",
        "plt.ylabel('Items Available')\n",
        "plt.show()\n"
      ],
      "metadata": {
        "id": "Heyc64t3VRUv"
      },
      "execution_count": null,
      "outputs": []
    },
    {
      "cell_type": "code",
      "source": [
        "# Correlation analysis between Daily Customer Count and Store Sales\n",
        "correlation_customer_sales = df['Daily_Customer_Count'].corr(df['Store_Sales'])\n",
        "print(f\"Correlation between Daily Customer Count and Store Sales: {correlation_customer_sales:.3f}\")\n",
        "\n",
        "# Scatter plot for Daily Customer Count vs. Store Sales\n",
        "plt.figure(figsize=(10, 6))\n",
        "sns.scatterplot(x='Daily_Customer_Count', y='Store_Sales', data=df)\n",
        "plt.title(f'Daily Customer Count vs. Store Sales (Correlation: {correlation_customer_sales:.3f})')\n",
        "plt.xlabel('Daily Customer Count')\n",
        "plt.ylabel('Store Sales')\n",
        "plt.show()\n"
      ],
      "metadata": {
        "id": "udRtqOa9Yat7"
      },
      "execution_count": null,
      "outputs": []
    },
    {
      "cell_type": "code",
      "source": [
        "# Creating size categories based on Store_Area\n",
        "bins = [0, 1500, 2500, 3500, float('inf')]  # Define thresholds for store size\n",
        "labels = ['Small', 'Medium', 'Large', 'Extra Large']  # Define labels for each category\n",
        "\n",
        "# Segment stores into size categories\n",
        "df['Store_Size_Category'] = pd.cut(df['Store_Area'], bins=bins, labels=labels, include_lowest=True)\n",
        "\n",
        "# Calculate average sales performance for each size category\n",
        "avg_sales_by_size = df.groupby('Store_Size_Category')['Store_Sales'].mean().reset_index()\n",
        "\n",
        "# Plot a bar chart to visualize the average sales performance by store size category\n",
        "plt.figure(figsize=(10, 6))\n",
        "sns.barplot(x='Store_Size_Category', y='Store_Sales', data=avg_sales_by_size, palette='viridis')\n",
        "plt.title('Average Sales Performance by Store Size Category')\n",
        "plt.xlabel('Store Size Category')\n",
        "plt.ylabel('Average Sales')\n",
        "plt.show()\n"
      ],
      "metadata": {
        "id": "KMqVqdh1ZBTf"
      },
      "execution_count": null,
      "outputs": []
    },
    {
      "cell_type": "code",
      "source": [
        "\n",
        "# Rank stores based on Store Sales and Customer Count\n",
        "df['Sales_Rank'] = df['Store_Sales'].rank(ascending=False)\n",
        "df['Customer_Rank'] = df['Daily_Customer_Count'].rank(ascending=False)\n",
        "\n",
        "# Scatter plot for Sales Rank vs. Customer Rank\n",
        "plt.figure(figsize=(10, 6))\n",
        "sns.scatterplot(x='Sales_Rank', y='Customer_Rank', data=df, s=100, hue='Store_Sales', palette='viridis', legend=False)\n",
        "plt.title('Scatter Plot of Sales Rank vs. Customer Rank')\n",
        "plt.xlabel('Sales Rank (1 = Best)')\n",
        "plt.ylabel('Customer Rank (1 = Best)')\n",
        "plt.show()\n",
        "\n",
        "# Scatter plot for Store Sales vs. Daily Customer Count\n",
        "plt.figure(figsize=(10, 6))\n",
        "sns.scatterplot(x='Store_Sales', y='Daily_Customer_Count', data=df, s=100, hue='Store_Sales', palette='coolwarm', legend=False)\n",
        "plt.title('Store Sales vs. Daily Customer Count')\n",
        "plt.xlabel('Store Sales')\n",
        "plt.ylabel('Daily Customer Count')\n",
        "plt.show()\n"
      ],
      "metadata": {
        "id": "bE9M83N1aM_q"
      },
      "execution_count": null,
      "outputs": []
    },
    {
      "cell_type": "markdown",
      "source": [
        "# **Data Visualization**"
      ],
      "metadata": {
        "id": "_LzlPeTLedUP"
      }
    },
    {
      "cell_type": "code",
      "source": [
        "#Scatter Plots with Regression Lines\n",
        "\n",
        "# Store Area vs. Store Sales with regression line\n",
        "plt.figure(figsize=(10, 6))\n",
        "sns.regplot(x='Store_Area', y='Store_Sales', data=df, scatter_kws={'s':10}, line_kws={'color':'red'})\n",
        "plt.title('Store Area vs. Store Sales with Regression Line')\n",
        "plt.xlabel('Store Area')\n",
        "plt.ylabel('Store Sales')\n",
        "plt.show()\n",
        "\n",
        "# Customer Count vs. Store Sales with regression line\n",
        "plt.figure(figsize=(10, 6))\n",
        "sns.regplot(x='Daily_Customer_Count', y='Store_Sales', data=df, scatter_kws={'s':10}, line_kws={'color':'red'})\n",
        "plt.title('Customer Count vs. Store Sales with Regression Line')\n",
        "plt.xlabel('Daily Customer Count')\n",
        "plt.ylabel('Store Sales')\n",
        "plt.show()\n",
        "\n",
        "# Store Area vs. Customer Count with regression line\n",
        "plt.figure(figsize=(10, 6))\n",
        "sns.regplot(x='Store_Area', y='Daily_Customer_Count', data=df, scatter_kws={'s':10}, line_kws={'color':'red'})\n",
        "plt.title('Store Area vs. Customer Count with Regression Line')\n",
        "plt.xlabel('Store Area')\n",
        "plt.ylabel('Daily Customer Count')\n",
        "plt.show()#"
      ],
      "metadata": {
        "id": "9QoG36-cejhW"
      },
      "execution_count": null,
      "outputs": []
    },
    {
      "cell_type": "code",
      "source": [
        "#Sales Distribution\n",
        "\n",
        "# Histogram of Store Sales\n",
        "plt.figure(figsize=(10, 6))\n",
        "sns.histplot(df_cleaned['Store_Sales'], bins=20, kde=True)\n",
        "plt.title('Distribution of Store Sales')\n",
        "plt.xlabel('Store Sales')\n",
        "plt.ylabel('Frequency')\n",
        "plt.show()"
      ],
      "metadata": {
        "id": "4xXqOPi4hUfu"
      },
      "execution_count": null,
      "outputs": []
    }
  ]
}